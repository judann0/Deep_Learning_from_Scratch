{
 "cells": [
  {
   "cell_type": "markdown",
   "metadata": {},
   "source": [
    "git 초반 : 상위 폴더에서 cmd열고 git clone (git code HTTPS URL)"
   ]
  },
  {
   "cell_type": "code",
   "execution_count": null,
   "metadata": {},
   "outputs": [],
   "source": [
    "git init  # 초기화\n",
    "git add .  # git에 올릴 파일 선택 (.은 모든 파일)\n",
    "git status  # 필수 아님 - 올릴 파일 상태 표시\n",
    "git commit -m \"first commit\"  # 히스토리 입력(변경 내용)\n",
    "git branch -M main  \n",
    "git remote add origin (git code SSH code)  # git과 연결고리 생성. 예시: git@github.com:project.git\n",
    "git push -u origin main  # git에 코드 올리기"
   ]
  },
  {
   "cell_type": "code",
   "execution_count": null,
   "metadata": {},
   "outputs": [],
   "source": [
    "git add .\n",
    "git command -m \"second commit\" # 변경 내용 입력\n",
    "git push origin main"
   ]
  },
  {
   "cell_type": "code",
   "execution_count": null,
   "metadata": {},
   "outputs": [],
   "source": [
    "git checkout -b (branch name)  # 새로운 브랜치 생성 및 연결\n",
    "git push origin (branch name)  # 상기 브랜치에 코드 push"
   ]
  },
  {
   "cell_type": "code",
   "execution_count": null,
   "metadata": {},
   "outputs": [],
   "source": [
    "# 동기화 작업\n",
    "git add . # 기존 코드 저장\n",
    "git commit -m \"input commit\"\n",
    "git pull origin main  # main브랜치로부터 새로운 코드 받아오기"
   ]
  }
 ],
 "metadata": {
  "kernelspec": {
   "display_name": "Python 3",
   "language": "python",
   "name": "python3"
  },
  "language_info": {
   "codemirror_mode": {
    "name": "ipython",
    "version": 3
   },
   "file_extension": ".py",
   "mimetype": "text/x-python",
   "name": "python",
   "nbconvert_exporter": "python",
   "pygments_lexer": "ipython3",
   "version": "3.12.4"
  }
 },
 "nbformat": 4,
 "nbformat_minor": 2
}
